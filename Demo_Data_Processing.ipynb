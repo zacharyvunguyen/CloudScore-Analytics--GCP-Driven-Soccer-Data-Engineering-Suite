{
 "cells": [
  {
   "cell_type": "code",
   "outputs": [],
   "source": [
    "import requests\n",
    "import pandas as pd\n",
    "import numpy as np\n",
    "from google.cloud import storage\n",
    "\n",
    "def fetch_data():\n",
    "    url = \"https://api-football-v1.p.rapidapi.com/v3/players\"\n",
    "    querystring = {\"team\": \"33\", \"league\": \"39\", \"season\": \"2022\"}\n",
    "    headers = {\n",
    "        \"X-RapidAPI-Key\": \"b01fb7d4d5msh9d6010d034fce6bp136078jsnfe71045ac5ee\",\n",
    "        \"X-RapidAPI-Host\": \"api-football-v1.p.rapidapi.com\"\n",
    "    }\n",
    "    response = requests.get(url, headers=headers, params=querystring)\n",
    "    return response.json()\n",
    "\n",
    "def process_data(data):\n",
    "    players_data = []\n",
    "    for player in data['response']:\n",
    "        player_info = player['player']\n",
    "        stats = player['statistics'][0]\n",
    "        player_data = {\n",
    "            \"Player name\": player_info['name'],\n",
    "            \"Nationality\": player_info['nationality'],\n",
    "            \"Position\": player_info.get('position', 'N/A'),\n",
    "            \"Weight\": player_info.get('weight', 'N/A'),\n",
    "            \"Height\": player_info.get('height', 'N/A'),\n",
    "            \"Team\": stats['team']['name'],\n",
    "            \"League\": stats['league']['name'],\n",
    "            \"Appearances\": stats['games']['appearences'],\n",
    "            \"Lineups\": stats['games']['lineups'],\n",
    "            \"Minutes\": stats['games']['minutes'],\n",
    "            \"Goals\": stats['goals']['total'],\n",
    "            \"Assists\": stats['goals']['assists'],\n",
    "            \"Yellow Cards\": stats['cards']['yellow'],\n",
    "            \"Red Cards\": stats['cards']['red'],\n",
    "            \"Shots Total\": stats['shots']['total'],\n",
    "            \"Shots On\": stats['shots']['on'],\n",
    "            \"Passes Total\": stats['passes']['total'],\n",
    "            \"Key Passes\": stats['passes']['key'],\n",
    "            \"Pass Accuracy\": stats['passes']['accuracy'],\n",
    "            \"Tackles Total\": stats['tackles']['total'],\n",
    "            \"Blocks\": stats['tackles']['blocks'],\n",
    "            \"Interceptions\": stats['tackles']['interceptions'],\n",
    "            \"Dribbles Attempts\": stats['dribbles']['attempts'],\n",
    "            \"Dribbles Success\": stats['dribbles']['success'],\n",
    "            \"Dribbled Past\": stats['dribbles']['past'],\n",
    "            \"Fouls Drawn\": stats['fouls']['drawn'],\n",
    "            \"Fouls Committed\": stats['fouls']['committed'],\n",
    "            \"Duels Total\": stats['duels']['total'],\n",
    "            \"Duels Won\": stats['duels']['won'],\n",
    "            \"Penalty Scored\": stats['penalty']['scored'],\n",
    "            \"Penalty Missed\": stats['penalty']['missed'],\n",
    "            \"Penalty Saved\": stats['penalty']['saved']\n",
    "        }\n",
    "        players_data.append(player_data)\n",
    "    return pd.DataFrame(players_data)\n",
    "\n",
    "def clean_and_transform_data(df):\n",
    "\n",
    "    # Drop unnecessary columns\n",
    "    df = df.drop(['Position', 'Dribbled Past'], axis=1)\n",
    "\n",
    "    # Cleaning Weight column\n",
    "    # Remove 'kg' and convert 'none' to NaN, then convert to numeric\n",
    "    df['Weight'] = df['Weight'].str.replace(' kg', '').str.replace('kg', '')\n",
    "    df['Weight'].replace('none', np.nan, inplace=True)\n",
    "    df['Weight'] = pd.to_numeric(df['Weight'], errors='coerce')\n",
    "\n",
    "    # Calculate the average weight and replace NaN values with it\n",
    "    average_weight = df['Weight'].dropna().mean()\n",
    "    df['Weight'].fillna(average_weight, inplace=True)\n",
    "\n",
    "    # Cleaning Height column\n",
    "    # Remove 'cm' and convert 'none' to NaN, then convert to numeric\n",
    "    df['Height'] = df['Height'].str.replace(' cm', '').str.replace('cm', '')\n",
    "    df['Height'].replace('none', np.nan, inplace=True)\n",
    "    df['Height'] = pd.to_numeric(df['Height'], errors='coerce')\n",
    "\n",
    "    # Calculate the average height and replace NaN values with it\n",
    "    average_height = df['Height'].dropna().mean()\n",
    "    df['Height'].fillna(average_height, inplace=True)\n",
    "\n",
    "    # Replace all other NaN values in the DataFrame with 0\n",
    "    df.fillna(0, inplace=True)\n",
    "    \n",
    "    # Remove the first row\n",
    "    df = df.iloc[1:]\n",
    "\n",
    "    return df\n",
    "\n",
    "def upload_to_gcs(df, bucket_name, destination_blob_name):\n",
    "    storage_client = storage.Client()\n",
    "    bucket = storage_client.bucket(bucket_name)\n",
    "    blob = bucket.blob(destination_blob_name)\n",
    "\n",
    "    # Save DataFrame to a CSV on memory\n",
    "    df.to_csv(destination_blob_name, index=False)\n",
    "\n",
    "    # Upload the CSV to GCS\n",
    "    blob.upload_from_filename(destination_blob_name)\n",
    "    print(f\"File {destination_blob_name} uploaded to {bucket_name}.\")\n",
    "\n",
    "def main():\n",
    "    \"\"\"\n",
    "    Main function to orchestrate data fetching, processing, and uploading.\n",
    "    \"\"\"\n",
    "    data = fetch_data()\n",
    "    df = process_data(data)\n",
    "    df_cleaned = clean_and_transform_data(df)\n",
    "    upload_to_gcs(df_cleaned, \"YOUR_GCS_BUCKET_NAME\", \"players_data.csv\")\n",
    "\n",
    "if __name__ == \"__main__\":\n",
    "    main()\n"
   ],
   "metadata": {
    "collapsed": false,
    "ExecuteTime": {
     "end_time": "2024-01-20T21:27:36.821527Z",
     "start_time": "2024-01-20T21:27:36.812513Z"
    }
   },
   "id": "2fb087dbdde7e96",
   "execution_count": 4
  },
  {
   "cell_type": "code",
   "outputs": [
    {
     "data": {
      "text/plain": "        Player name    Nationality Position Weight  Height               Team  \\\n0         Lee Grant        England      N/A  83 kg  193 cm  Manchester United   \n1     T. Fredricson        England      N/A   None    None  Manchester United   \n2        B. Hardley    Netherlands      N/A   None  189 cm  Manchester United   \n3         S. Murray        England      N/A   None    None  Manchester United   \n4      David de Gea          Spain      N/A  76 kg  192 cm  Manchester United   \n5          P. Jones        England      N/A  71 kg  180 cm  Manchester United   \n6         C. Savage          Wales      N/A  74 kg  182 cm  Manchester United   \n7         H. Mejbri        Tunisia      N/A  74 kg  177 cm  Manchester United   \n8      S. McTominay       Scotland      N/A  88 kg  193 cm  Manchester United   \n9          Casemiro         Brazil      N/A  84 kg  185 cm  Manchester United   \n10      M. Dúbravka       Slovakia      N/A  83 kg  190 cm  Manchester United   \n11           Antony         Brazil      N/A  63 kg  174 cm  Manchester United   \n12     S. Shoretire        England      N/A  70 kg  170 cm  Manchester United   \n13      A. Garnacho      Argentina      N/A  80 kg  180 cm  Manchester United   \n14        A. Diallo  Côte d'Ivoire      N/A  72 kg  173 cm  Manchester United   \n15      M. Rashford        England      N/A  70 kg  180 cm  Manchester United   \n16       A. Martial         France      N/A  76 kg  181 cm  Manchester United   \n17     F. Pellistri        Uruguay      N/A  69 kg  175 cm  Manchester United   \n18  Bruno Fernandes       Portugal      N/A  69 kg  179 cm  Manchester United   \n19       R. Bennett        England      N/A   None    None  Manchester United   \n\n            League  Appearances  Lineups  Minutes  ...  Dribbles Attempts  \\\n0   Premier League          NaN      NaN      NaN  ...                NaN   \n1   Premier League          NaN      NaN      NaN  ...                NaN   \n2   Premier League          NaN      NaN      NaN  ...                NaN   \n3   Premier League          NaN      NaN      NaN  ...                NaN   \n4   Premier League         38.0     38.0   3420.0  ...                NaN   \n5   Premier League          0.0      0.0      0.0  ...                NaN   \n6   Premier League          0.0      0.0      0.0  ...                NaN   \n7   Premier League          0.0      0.0      0.0  ...                NaN   \n8   Premier League         24.0     10.0   1149.0  ...               22.0   \n9   Premier League         28.0     24.0   2126.0  ...               17.0   \n10  Premier League          0.0      0.0      0.0  ...                NaN   \n11  Premier League         25.0     23.0   1817.0  ...               65.0   \n12  Premier League          0.0      0.0      0.0  ...                NaN   \n13  Premier League         19.0      5.0    562.0  ...               38.0   \n14  Premier League          0.0      0.0      0.0  ...                NaN   \n15  Premier League         35.0     32.0   2889.0  ...              127.0   \n16  Premier League         21.0     11.0    979.0  ...               23.0   \n17  Premier League          4.0      0.0     60.0  ...                3.0   \n18  Premier League         37.0     37.0   3320.0  ...               59.0   \n19  Premier League          0.0      0.0      0.0  ...                NaN   \n\n    Dribbles Success  Dribbled Past  Fouls Drawn  Fouls Committed  \\\n0                NaN           None          NaN              NaN   \n1                NaN           None          NaN              NaN   \n2                NaN           None          NaN              NaN   \n3                NaN           None          NaN              NaN   \n4                NaN           None          5.0              NaN   \n5                NaN           None          NaN              NaN   \n6                NaN           None          NaN              NaN   \n7                NaN           None          NaN              NaN   \n8               13.0           None         16.0             28.0   \n9                9.0           None         24.0             48.0   \n10               NaN           None          NaN              NaN   \n11              27.0           None         25.0             15.0   \n12               NaN           None          NaN              NaN   \n13              11.0           None          8.0              8.0   \n14               NaN           None          NaN              NaN   \n15              54.0           None         23.0             15.0   \n16              14.0           None         14.0              8.0   \n17               2.0           None          2.0              1.0   \n18              31.0           None         39.0             42.0   \n19               NaN           None          NaN              NaN   \n\n    Duels Total  Duels Won  Penalty Scored  Penalty Missed  Penalty Saved  \n0           NaN        NaN             NaN             NaN            NaN  \n1           NaN        NaN             NaN             NaN            NaN  \n2           NaN        NaN             NaN             NaN            NaN  \n3           NaN        NaN             NaN             NaN            NaN  \n4          12.0       10.0             0.0             0.0            1.0  \n5           NaN        NaN             NaN             NaN            NaN  \n6           NaN        NaN             NaN             NaN            NaN  \n7           NaN        NaN             NaN             NaN            NaN  \n8         183.0       95.0             0.0             0.0            NaN  \n9         320.0      179.0             0.0             0.0            NaN  \n10          NaN        NaN             0.0             0.0            0.0  \n11        181.0       79.0             0.0             0.0            NaN  \n12          NaN        NaN             0.0             0.0            NaN  \n13         95.0       27.0             0.0             0.0            NaN  \n14          NaN        NaN             NaN             NaN            NaN  \n15        302.0      117.0             0.0             0.0            NaN  \n16         99.0       43.0             1.0             0.0            NaN  \n17          8.0        5.0             0.0             0.0            NaN  \n18        349.0      156.0             2.0             0.0            NaN  \n19          NaN        NaN             0.0             0.0            NaN  \n\n[20 rows x 32 columns]",
      "text/html": "<div>\n<style scoped>\n    .dataframe tbody tr th:only-of-type {\n        vertical-align: middle;\n    }\n\n    .dataframe tbody tr th {\n        vertical-align: top;\n    }\n\n    .dataframe thead th {\n        text-align: right;\n    }\n</style>\n<table border=\"1\" class=\"dataframe\">\n  <thead>\n    <tr style=\"text-align: right;\">\n      <th></th>\n      <th>Player name</th>\n      <th>Nationality</th>\n      <th>Position</th>\n      <th>Weight</th>\n      <th>Height</th>\n      <th>Team</th>\n      <th>League</th>\n      <th>Appearances</th>\n      <th>Lineups</th>\n      <th>Minutes</th>\n      <th>...</th>\n      <th>Dribbles Attempts</th>\n      <th>Dribbles Success</th>\n      <th>Dribbled Past</th>\n      <th>Fouls Drawn</th>\n      <th>Fouls Committed</th>\n      <th>Duels Total</th>\n      <th>Duels Won</th>\n      <th>Penalty Scored</th>\n      <th>Penalty Missed</th>\n      <th>Penalty Saved</th>\n    </tr>\n  </thead>\n  <tbody>\n    <tr>\n      <th>0</th>\n      <td>Lee Grant</td>\n      <td>England</td>\n      <td>N/A</td>\n      <td>83 kg</td>\n      <td>193 cm</td>\n      <td>Manchester United</td>\n      <td>Premier League</td>\n      <td>NaN</td>\n      <td>NaN</td>\n      <td>NaN</td>\n      <td>...</td>\n      <td>NaN</td>\n      <td>NaN</td>\n      <td>None</td>\n      <td>NaN</td>\n      <td>NaN</td>\n      <td>NaN</td>\n      <td>NaN</td>\n      <td>NaN</td>\n      <td>NaN</td>\n      <td>NaN</td>\n    </tr>\n    <tr>\n      <th>1</th>\n      <td>T. Fredricson</td>\n      <td>England</td>\n      <td>N/A</td>\n      <td>None</td>\n      <td>None</td>\n      <td>Manchester United</td>\n      <td>Premier League</td>\n      <td>NaN</td>\n      <td>NaN</td>\n      <td>NaN</td>\n      <td>...</td>\n      <td>NaN</td>\n      <td>NaN</td>\n      <td>None</td>\n      <td>NaN</td>\n      <td>NaN</td>\n      <td>NaN</td>\n      <td>NaN</td>\n      <td>NaN</td>\n      <td>NaN</td>\n      <td>NaN</td>\n    </tr>\n    <tr>\n      <th>2</th>\n      <td>B. Hardley</td>\n      <td>Netherlands</td>\n      <td>N/A</td>\n      <td>None</td>\n      <td>189 cm</td>\n      <td>Manchester United</td>\n      <td>Premier League</td>\n      <td>NaN</td>\n      <td>NaN</td>\n      <td>NaN</td>\n      <td>...</td>\n      <td>NaN</td>\n      <td>NaN</td>\n      <td>None</td>\n      <td>NaN</td>\n      <td>NaN</td>\n      <td>NaN</td>\n      <td>NaN</td>\n      <td>NaN</td>\n      <td>NaN</td>\n      <td>NaN</td>\n    </tr>\n    <tr>\n      <th>3</th>\n      <td>S. Murray</td>\n      <td>England</td>\n      <td>N/A</td>\n      <td>None</td>\n      <td>None</td>\n      <td>Manchester United</td>\n      <td>Premier League</td>\n      <td>NaN</td>\n      <td>NaN</td>\n      <td>NaN</td>\n      <td>...</td>\n      <td>NaN</td>\n      <td>NaN</td>\n      <td>None</td>\n      <td>NaN</td>\n      <td>NaN</td>\n      <td>NaN</td>\n      <td>NaN</td>\n      <td>NaN</td>\n      <td>NaN</td>\n      <td>NaN</td>\n    </tr>\n    <tr>\n      <th>4</th>\n      <td>David de Gea</td>\n      <td>Spain</td>\n      <td>N/A</td>\n      <td>76 kg</td>\n      <td>192 cm</td>\n      <td>Manchester United</td>\n      <td>Premier League</td>\n      <td>38.0</td>\n      <td>38.0</td>\n      <td>3420.0</td>\n      <td>...</td>\n      <td>NaN</td>\n      <td>NaN</td>\n      <td>None</td>\n      <td>5.0</td>\n      <td>NaN</td>\n      <td>12.0</td>\n      <td>10.0</td>\n      <td>0.0</td>\n      <td>0.0</td>\n      <td>1.0</td>\n    </tr>\n    <tr>\n      <th>5</th>\n      <td>P. Jones</td>\n      <td>England</td>\n      <td>N/A</td>\n      <td>71 kg</td>\n      <td>180 cm</td>\n      <td>Manchester United</td>\n      <td>Premier League</td>\n      <td>0.0</td>\n      <td>0.0</td>\n      <td>0.0</td>\n      <td>...</td>\n      <td>NaN</td>\n      <td>NaN</td>\n      <td>None</td>\n      <td>NaN</td>\n      <td>NaN</td>\n      <td>NaN</td>\n      <td>NaN</td>\n      <td>NaN</td>\n      <td>NaN</td>\n      <td>NaN</td>\n    </tr>\n    <tr>\n      <th>6</th>\n      <td>C. Savage</td>\n      <td>Wales</td>\n      <td>N/A</td>\n      <td>74 kg</td>\n      <td>182 cm</td>\n      <td>Manchester United</td>\n      <td>Premier League</td>\n      <td>0.0</td>\n      <td>0.0</td>\n      <td>0.0</td>\n      <td>...</td>\n      <td>NaN</td>\n      <td>NaN</td>\n      <td>None</td>\n      <td>NaN</td>\n      <td>NaN</td>\n      <td>NaN</td>\n      <td>NaN</td>\n      <td>NaN</td>\n      <td>NaN</td>\n      <td>NaN</td>\n    </tr>\n    <tr>\n      <th>7</th>\n      <td>H. Mejbri</td>\n      <td>Tunisia</td>\n      <td>N/A</td>\n      <td>74 kg</td>\n      <td>177 cm</td>\n      <td>Manchester United</td>\n      <td>Premier League</td>\n      <td>0.0</td>\n      <td>0.0</td>\n      <td>0.0</td>\n      <td>...</td>\n      <td>NaN</td>\n      <td>NaN</td>\n      <td>None</td>\n      <td>NaN</td>\n      <td>NaN</td>\n      <td>NaN</td>\n      <td>NaN</td>\n      <td>NaN</td>\n      <td>NaN</td>\n      <td>NaN</td>\n    </tr>\n    <tr>\n      <th>8</th>\n      <td>S. McTominay</td>\n      <td>Scotland</td>\n      <td>N/A</td>\n      <td>88 kg</td>\n      <td>193 cm</td>\n      <td>Manchester United</td>\n      <td>Premier League</td>\n      <td>24.0</td>\n      <td>10.0</td>\n      <td>1149.0</td>\n      <td>...</td>\n      <td>22.0</td>\n      <td>13.0</td>\n      <td>None</td>\n      <td>16.0</td>\n      <td>28.0</td>\n      <td>183.0</td>\n      <td>95.0</td>\n      <td>0.0</td>\n      <td>0.0</td>\n      <td>NaN</td>\n    </tr>\n    <tr>\n      <th>9</th>\n      <td>Casemiro</td>\n      <td>Brazil</td>\n      <td>N/A</td>\n      <td>84 kg</td>\n      <td>185 cm</td>\n      <td>Manchester United</td>\n      <td>Premier League</td>\n      <td>28.0</td>\n      <td>24.0</td>\n      <td>2126.0</td>\n      <td>...</td>\n      <td>17.0</td>\n      <td>9.0</td>\n      <td>None</td>\n      <td>24.0</td>\n      <td>48.0</td>\n      <td>320.0</td>\n      <td>179.0</td>\n      <td>0.0</td>\n      <td>0.0</td>\n      <td>NaN</td>\n    </tr>\n    <tr>\n      <th>10</th>\n      <td>M. Dúbravka</td>\n      <td>Slovakia</td>\n      <td>N/A</td>\n      <td>83 kg</td>\n      <td>190 cm</td>\n      <td>Manchester United</td>\n      <td>Premier League</td>\n      <td>0.0</td>\n      <td>0.0</td>\n      <td>0.0</td>\n      <td>...</td>\n      <td>NaN</td>\n      <td>NaN</td>\n      <td>None</td>\n      <td>NaN</td>\n      <td>NaN</td>\n      <td>NaN</td>\n      <td>NaN</td>\n      <td>0.0</td>\n      <td>0.0</td>\n      <td>0.0</td>\n    </tr>\n    <tr>\n      <th>11</th>\n      <td>Antony</td>\n      <td>Brazil</td>\n      <td>N/A</td>\n      <td>63 kg</td>\n      <td>174 cm</td>\n      <td>Manchester United</td>\n      <td>Premier League</td>\n      <td>25.0</td>\n      <td>23.0</td>\n      <td>1817.0</td>\n      <td>...</td>\n      <td>65.0</td>\n      <td>27.0</td>\n      <td>None</td>\n      <td>25.0</td>\n      <td>15.0</td>\n      <td>181.0</td>\n      <td>79.0</td>\n      <td>0.0</td>\n      <td>0.0</td>\n      <td>NaN</td>\n    </tr>\n    <tr>\n      <th>12</th>\n      <td>S. Shoretire</td>\n      <td>England</td>\n      <td>N/A</td>\n      <td>70 kg</td>\n      <td>170 cm</td>\n      <td>Manchester United</td>\n      <td>Premier League</td>\n      <td>0.0</td>\n      <td>0.0</td>\n      <td>0.0</td>\n      <td>...</td>\n      <td>NaN</td>\n      <td>NaN</td>\n      <td>None</td>\n      <td>NaN</td>\n      <td>NaN</td>\n      <td>NaN</td>\n      <td>NaN</td>\n      <td>0.0</td>\n      <td>0.0</td>\n      <td>NaN</td>\n    </tr>\n    <tr>\n      <th>13</th>\n      <td>A. Garnacho</td>\n      <td>Argentina</td>\n      <td>N/A</td>\n      <td>80 kg</td>\n      <td>180 cm</td>\n      <td>Manchester United</td>\n      <td>Premier League</td>\n      <td>19.0</td>\n      <td>5.0</td>\n      <td>562.0</td>\n      <td>...</td>\n      <td>38.0</td>\n      <td>11.0</td>\n      <td>None</td>\n      <td>8.0</td>\n      <td>8.0</td>\n      <td>95.0</td>\n      <td>27.0</td>\n      <td>0.0</td>\n      <td>0.0</td>\n      <td>NaN</td>\n    </tr>\n    <tr>\n      <th>14</th>\n      <td>A. Diallo</td>\n      <td>Côte d'Ivoire</td>\n      <td>N/A</td>\n      <td>72 kg</td>\n      <td>173 cm</td>\n      <td>Manchester United</td>\n      <td>Premier League</td>\n      <td>0.0</td>\n      <td>0.0</td>\n      <td>0.0</td>\n      <td>...</td>\n      <td>NaN</td>\n      <td>NaN</td>\n      <td>None</td>\n      <td>NaN</td>\n      <td>NaN</td>\n      <td>NaN</td>\n      <td>NaN</td>\n      <td>NaN</td>\n      <td>NaN</td>\n      <td>NaN</td>\n    </tr>\n    <tr>\n      <th>15</th>\n      <td>M. Rashford</td>\n      <td>England</td>\n      <td>N/A</td>\n      <td>70 kg</td>\n      <td>180 cm</td>\n      <td>Manchester United</td>\n      <td>Premier League</td>\n      <td>35.0</td>\n      <td>32.0</td>\n      <td>2889.0</td>\n      <td>...</td>\n      <td>127.0</td>\n      <td>54.0</td>\n      <td>None</td>\n      <td>23.0</td>\n      <td>15.0</td>\n      <td>302.0</td>\n      <td>117.0</td>\n      <td>0.0</td>\n      <td>0.0</td>\n      <td>NaN</td>\n    </tr>\n    <tr>\n      <th>16</th>\n      <td>A. Martial</td>\n      <td>France</td>\n      <td>N/A</td>\n      <td>76 kg</td>\n      <td>181 cm</td>\n      <td>Manchester United</td>\n      <td>Premier League</td>\n      <td>21.0</td>\n      <td>11.0</td>\n      <td>979.0</td>\n      <td>...</td>\n      <td>23.0</td>\n      <td>14.0</td>\n      <td>None</td>\n      <td>14.0</td>\n      <td>8.0</td>\n      <td>99.0</td>\n      <td>43.0</td>\n      <td>1.0</td>\n      <td>0.0</td>\n      <td>NaN</td>\n    </tr>\n    <tr>\n      <th>17</th>\n      <td>F. Pellistri</td>\n      <td>Uruguay</td>\n      <td>N/A</td>\n      <td>69 kg</td>\n      <td>175 cm</td>\n      <td>Manchester United</td>\n      <td>Premier League</td>\n      <td>4.0</td>\n      <td>0.0</td>\n      <td>60.0</td>\n      <td>...</td>\n      <td>3.0</td>\n      <td>2.0</td>\n      <td>None</td>\n      <td>2.0</td>\n      <td>1.0</td>\n      <td>8.0</td>\n      <td>5.0</td>\n      <td>0.0</td>\n      <td>0.0</td>\n      <td>NaN</td>\n    </tr>\n    <tr>\n      <th>18</th>\n      <td>Bruno Fernandes</td>\n      <td>Portugal</td>\n      <td>N/A</td>\n      <td>69 kg</td>\n      <td>179 cm</td>\n      <td>Manchester United</td>\n      <td>Premier League</td>\n      <td>37.0</td>\n      <td>37.0</td>\n      <td>3320.0</td>\n      <td>...</td>\n      <td>59.0</td>\n      <td>31.0</td>\n      <td>None</td>\n      <td>39.0</td>\n      <td>42.0</td>\n      <td>349.0</td>\n      <td>156.0</td>\n      <td>2.0</td>\n      <td>0.0</td>\n      <td>NaN</td>\n    </tr>\n    <tr>\n      <th>19</th>\n      <td>R. Bennett</td>\n      <td>England</td>\n      <td>N/A</td>\n      <td>None</td>\n      <td>None</td>\n      <td>Manchester United</td>\n      <td>Premier League</td>\n      <td>0.0</td>\n      <td>0.0</td>\n      <td>0.0</td>\n      <td>...</td>\n      <td>NaN</td>\n      <td>NaN</td>\n      <td>None</td>\n      <td>NaN</td>\n      <td>NaN</td>\n      <td>NaN</td>\n      <td>NaN</td>\n      <td>0.0</td>\n      <td>0.0</td>\n      <td>NaN</td>\n    </tr>\n  </tbody>\n</table>\n<p>20 rows × 32 columns</p>\n</div>"
     },
     "execution_count": 5,
     "metadata": {},
     "output_type": "execute_result"
    }
   ],
   "source": [
    "data = fetch_data()\n",
    "df = process_data(data)\n",
    "df"
   ],
   "metadata": {
    "collapsed": false,
    "ExecuteTime": {
     "end_time": "2024-01-20T21:27:38.974482Z",
     "start_time": "2024-01-20T21:27:38.323661Z"
    }
   },
   "id": "d2d68b760e743f1e",
   "execution_count": 5
  },
  {
   "cell_type": "code",
   "outputs": [
    {
     "data": {
      "text/plain": "        Player name    Nationality  Weight      Height               Team  \\\n0         Lee Grant        England  83.000  193.000000  Manchester United   \n1     T. Fredricson        England  75.125  181.941176  Manchester United   \n2        B. Hardley    Netherlands  75.125  189.000000  Manchester United   \n3         S. Murray        England  75.125  181.941176  Manchester United   \n4      David de Gea          Spain  76.000  192.000000  Manchester United   \n5          P. Jones        England  71.000  180.000000  Manchester United   \n6         C. Savage          Wales  74.000  182.000000  Manchester United   \n7         H. Mejbri        Tunisia  74.000  177.000000  Manchester United   \n8      S. McTominay       Scotland  88.000  193.000000  Manchester United   \n9          Casemiro         Brazil  84.000  185.000000  Manchester United   \n10      M. Dúbravka       Slovakia  83.000  190.000000  Manchester United   \n11           Antony         Brazil  63.000  174.000000  Manchester United   \n12     S. Shoretire        England  70.000  170.000000  Manchester United   \n13      A. Garnacho      Argentina  80.000  180.000000  Manchester United   \n14        A. Diallo  Côte d'Ivoire  72.000  173.000000  Manchester United   \n15      M. Rashford        England  70.000  180.000000  Manchester United   \n16       A. Martial         France  76.000  181.000000  Manchester United   \n17     F. Pellistri        Uruguay  69.000  175.000000  Manchester United   \n18  Bruno Fernandes       Portugal  69.000  179.000000  Manchester United   \n19       R. Bennett        England  75.125  181.941176  Manchester United   \n\n            League  Appearances  Lineups  Minutes  Goals  ...  Interceptions  \\\n0   Premier League          0.0      0.0      0.0    0.0  ...            0.0   \n1   Premier League          0.0      0.0      0.0    0.0  ...            0.0   \n2   Premier League          0.0      0.0      0.0    0.0  ...            0.0   \n3   Premier League          0.0      0.0      0.0    0.0  ...            0.0   \n4   Premier League         38.0     38.0   3420.0    0.0  ...            1.0   \n5   Premier League          0.0      0.0      0.0    0.0  ...            0.0   \n6   Premier League          0.0      0.0      0.0    0.0  ...            0.0   \n7   Premier League          0.0      0.0      0.0    0.0  ...            0.0   \n8   Premier League         24.0     10.0   1149.0    1.0  ...           14.0   \n9   Premier League         28.0     24.0   2126.0    4.0  ...           34.0   \n10  Premier League          0.0      0.0      0.0    0.0  ...            0.0   \n11  Premier League         25.0     23.0   1817.0    4.0  ...           11.0   \n12  Premier League          0.0      0.0      0.0    0.0  ...            0.0   \n13  Premier League         19.0      5.0    562.0    3.0  ...            5.0   \n14  Premier League          0.0      0.0      0.0    0.0  ...            0.0   \n15  Premier League         35.0     32.0   2889.0   17.0  ...            7.0   \n16  Premier League         21.0     11.0    979.0    6.0  ...            1.0   \n17  Premier League          4.0      0.0     60.0    0.0  ...            0.0   \n18  Premier League         37.0     37.0   3320.0    8.0  ...           25.0   \n19  Premier League          0.0      0.0      0.0    0.0  ...            0.0   \n\n    Dribbles Attempts  Dribbles Success  Fouls Drawn  Fouls Committed  \\\n0                 0.0               0.0          0.0              0.0   \n1                 0.0               0.0          0.0              0.0   \n2                 0.0               0.0          0.0              0.0   \n3                 0.0               0.0          0.0              0.0   \n4                 0.0               0.0          5.0              0.0   \n5                 0.0               0.0          0.0              0.0   \n6                 0.0               0.0          0.0              0.0   \n7                 0.0               0.0          0.0              0.0   \n8                22.0              13.0         16.0             28.0   \n9                17.0               9.0         24.0             48.0   \n10                0.0               0.0          0.0              0.0   \n11               65.0              27.0         25.0             15.0   \n12                0.0               0.0          0.0              0.0   \n13               38.0              11.0          8.0              8.0   \n14                0.0               0.0          0.0              0.0   \n15              127.0              54.0         23.0             15.0   \n16               23.0              14.0         14.0              8.0   \n17                3.0               2.0          2.0              1.0   \n18               59.0              31.0         39.0             42.0   \n19                0.0               0.0          0.0              0.0   \n\n    Duels Total  Duels Won  Penalty Scored  Penalty Missed  Penalty Saved  \n0           0.0        0.0             0.0             0.0            0.0  \n1           0.0        0.0             0.0             0.0            0.0  \n2           0.0        0.0             0.0             0.0            0.0  \n3           0.0        0.0             0.0             0.0            0.0  \n4          12.0       10.0             0.0             0.0            1.0  \n5           0.0        0.0             0.0             0.0            0.0  \n6           0.0        0.0             0.0             0.0            0.0  \n7           0.0        0.0             0.0             0.0            0.0  \n8         183.0       95.0             0.0             0.0            0.0  \n9         320.0      179.0             0.0             0.0            0.0  \n10          0.0        0.0             0.0             0.0            0.0  \n11        181.0       79.0             0.0             0.0            0.0  \n12          0.0        0.0             0.0             0.0            0.0  \n13         95.0       27.0             0.0             0.0            0.0  \n14          0.0        0.0             0.0             0.0            0.0  \n15        302.0      117.0             0.0             0.0            0.0  \n16         99.0       43.0             1.0             0.0            0.0  \n17          8.0        5.0             0.0             0.0            0.0  \n18        349.0      156.0             2.0             0.0            0.0  \n19          0.0        0.0             0.0             0.0            0.0  \n\n[20 rows x 30 columns]",
      "text/html": "<div>\n<style scoped>\n    .dataframe tbody tr th:only-of-type {\n        vertical-align: middle;\n    }\n\n    .dataframe tbody tr th {\n        vertical-align: top;\n    }\n\n    .dataframe thead th {\n        text-align: right;\n    }\n</style>\n<table border=\"1\" class=\"dataframe\">\n  <thead>\n    <tr style=\"text-align: right;\">\n      <th></th>\n      <th>Player name</th>\n      <th>Nationality</th>\n      <th>Weight</th>\n      <th>Height</th>\n      <th>Team</th>\n      <th>League</th>\n      <th>Appearances</th>\n      <th>Lineups</th>\n      <th>Minutes</th>\n      <th>Goals</th>\n      <th>...</th>\n      <th>Interceptions</th>\n      <th>Dribbles Attempts</th>\n      <th>Dribbles Success</th>\n      <th>Fouls Drawn</th>\n      <th>Fouls Committed</th>\n      <th>Duels Total</th>\n      <th>Duels Won</th>\n      <th>Penalty Scored</th>\n      <th>Penalty Missed</th>\n      <th>Penalty Saved</th>\n    </tr>\n  </thead>\n  <tbody>\n    <tr>\n      <th>0</th>\n      <td>Lee Grant</td>\n      <td>England</td>\n      <td>83.000</td>\n      <td>193.000000</td>\n      <td>Manchester United</td>\n      <td>Premier League</td>\n      <td>0.0</td>\n      <td>0.0</td>\n      <td>0.0</td>\n      <td>0.0</td>\n      <td>...</td>\n      <td>0.0</td>\n      <td>0.0</td>\n      <td>0.0</td>\n      <td>0.0</td>\n      <td>0.0</td>\n      <td>0.0</td>\n      <td>0.0</td>\n      <td>0.0</td>\n      <td>0.0</td>\n      <td>0.0</td>\n    </tr>\n    <tr>\n      <th>1</th>\n      <td>T. Fredricson</td>\n      <td>England</td>\n      <td>75.125</td>\n      <td>181.941176</td>\n      <td>Manchester United</td>\n      <td>Premier League</td>\n      <td>0.0</td>\n      <td>0.0</td>\n      <td>0.0</td>\n      <td>0.0</td>\n      <td>...</td>\n      <td>0.0</td>\n      <td>0.0</td>\n      <td>0.0</td>\n      <td>0.0</td>\n      <td>0.0</td>\n      <td>0.0</td>\n      <td>0.0</td>\n      <td>0.0</td>\n      <td>0.0</td>\n      <td>0.0</td>\n    </tr>\n    <tr>\n      <th>2</th>\n      <td>B. Hardley</td>\n      <td>Netherlands</td>\n      <td>75.125</td>\n      <td>189.000000</td>\n      <td>Manchester United</td>\n      <td>Premier League</td>\n      <td>0.0</td>\n      <td>0.0</td>\n      <td>0.0</td>\n      <td>0.0</td>\n      <td>...</td>\n      <td>0.0</td>\n      <td>0.0</td>\n      <td>0.0</td>\n      <td>0.0</td>\n      <td>0.0</td>\n      <td>0.0</td>\n      <td>0.0</td>\n      <td>0.0</td>\n      <td>0.0</td>\n      <td>0.0</td>\n    </tr>\n    <tr>\n      <th>3</th>\n      <td>S. Murray</td>\n      <td>England</td>\n      <td>75.125</td>\n      <td>181.941176</td>\n      <td>Manchester United</td>\n      <td>Premier League</td>\n      <td>0.0</td>\n      <td>0.0</td>\n      <td>0.0</td>\n      <td>0.0</td>\n      <td>...</td>\n      <td>0.0</td>\n      <td>0.0</td>\n      <td>0.0</td>\n      <td>0.0</td>\n      <td>0.0</td>\n      <td>0.0</td>\n      <td>0.0</td>\n      <td>0.0</td>\n      <td>0.0</td>\n      <td>0.0</td>\n    </tr>\n    <tr>\n      <th>4</th>\n      <td>David de Gea</td>\n      <td>Spain</td>\n      <td>76.000</td>\n      <td>192.000000</td>\n      <td>Manchester United</td>\n      <td>Premier League</td>\n      <td>38.0</td>\n      <td>38.0</td>\n      <td>3420.0</td>\n      <td>0.0</td>\n      <td>...</td>\n      <td>1.0</td>\n      <td>0.0</td>\n      <td>0.0</td>\n      <td>5.0</td>\n      <td>0.0</td>\n      <td>12.0</td>\n      <td>10.0</td>\n      <td>0.0</td>\n      <td>0.0</td>\n      <td>1.0</td>\n    </tr>\n    <tr>\n      <th>5</th>\n      <td>P. Jones</td>\n      <td>England</td>\n      <td>71.000</td>\n      <td>180.000000</td>\n      <td>Manchester United</td>\n      <td>Premier League</td>\n      <td>0.0</td>\n      <td>0.0</td>\n      <td>0.0</td>\n      <td>0.0</td>\n      <td>...</td>\n      <td>0.0</td>\n      <td>0.0</td>\n      <td>0.0</td>\n      <td>0.0</td>\n      <td>0.0</td>\n      <td>0.0</td>\n      <td>0.0</td>\n      <td>0.0</td>\n      <td>0.0</td>\n      <td>0.0</td>\n    </tr>\n    <tr>\n      <th>6</th>\n      <td>C. Savage</td>\n      <td>Wales</td>\n      <td>74.000</td>\n      <td>182.000000</td>\n      <td>Manchester United</td>\n      <td>Premier League</td>\n      <td>0.0</td>\n      <td>0.0</td>\n      <td>0.0</td>\n      <td>0.0</td>\n      <td>...</td>\n      <td>0.0</td>\n      <td>0.0</td>\n      <td>0.0</td>\n      <td>0.0</td>\n      <td>0.0</td>\n      <td>0.0</td>\n      <td>0.0</td>\n      <td>0.0</td>\n      <td>0.0</td>\n      <td>0.0</td>\n    </tr>\n    <tr>\n      <th>7</th>\n      <td>H. Mejbri</td>\n      <td>Tunisia</td>\n      <td>74.000</td>\n      <td>177.000000</td>\n      <td>Manchester United</td>\n      <td>Premier League</td>\n      <td>0.0</td>\n      <td>0.0</td>\n      <td>0.0</td>\n      <td>0.0</td>\n      <td>...</td>\n      <td>0.0</td>\n      <td>0.0</td>\n      <td>0.0</td>\n      <td>0.0</td>\n      <td>0.0</td>\n      <td>0.0</td>\n      <td>0.0</td>\n      <td>0.0</td>\n      <td>0.0</td>\n      <td>0.0</td>\n    </tr>\n    <tr>\n      <th>8</th>\n      <td>S. McTominay</td>\n      <td>Scotland</td>\n      <td>88.000</td>\n      <td>193.000000</td>\n      <td>Manchester United</td>\n      <td>Premier League</td>\n      <td>24.0</td>\n      <td>10.0</td>\n      <td>1149.0</td>\n      <td>1.0</td>\n      <td>...</td>\n      <td>14.0</td>\n      <td>22.0</td>\n      <td>13.0</td>\n      <td>16.0</td>\n      <td>28.0</td>\n      <td>183.0</td>\n      <td>95.0</td>\n      <td>0.0</td>\n      <td>0.0</td>\n      <td>0.0</td>\n    </tr>\n    <tr>\n      <th>9</th>\n      <td>Casemiro</td>\n      <td>Brazil</td>\n      <td>84.000</td>\n      <td>185.000000</td>\n      <td>Manchester United</td>\n      <td>Premier League</td>\n      <td>28.0</td>\n      <td>24.0</td>\n      <td>2126.0</td>\n      <td>4.0</td>\n      <td>...</td>\n      <td>34.0</td>\n      <td>17.0</td>\n      <td>9.0</td>\n      <td>24.0</td>\n      <td>48.0</td>\n      <td>320.0</td>\n      <td>179.0</td>\n      <td>0.0</td>\n      <td>0.0</td>\n      <td>0.0</td>\n    </tr>\n    <tr>\n      <th>10</th>\n      <td>M. Dúbravka</td>\n      <td>Slovakia</td>\n      <td>83.000</td>\n      <td>190.000000</td>\n      <td>Manchester United</td>\n      <td>Premier League</td>\n      <td>0.0</td>\n      <td>0.0</td>\n      <td>0.0</td>\n      <td>0.0</td>\n      <td>...</td>\n      <td>0.0</td>\n      <td>0.0</td>\n      <td>0.0</td>\n      <td>0.0</td>\n      <td>0.0</td>\n      <td>0.0</td>\n      <td>0.0</td>\n      <td>0.0</td>\n      <td>0.0</td>\n      <td>0.0</td>\n    </tr>\n    <tr>\n      <th>11</th>\n      <td>Antony</td>\n      <td>Brazil</td>\n      <td>63.000</td>\n      <td>174.000000</td>\n      <td>Manchester United</td>\n      <td>Premier League</td>\n      <td>25.0</td>\n      <td>23.0</td>\n      <td>1817.0</td>\n      <td>4.0</td>\n      <td>...</td>\n      <td>11.0</td>\n      <td>65.0</td>\n      <td>27.0</td>\n      <td>25.0</td>\n      <td>15.0</td>\n      <td>181.0</td>\n      <td>79.0</td>\n      <td>0.0</td>\n      <td>0.0</td>\n      <td>0.0</td>\n    </tr>\n    <tr>\n      <th>12</th>\n      <td>S. Shoretire</td>\n      <td>England</td>\n      <td>70.000</td>\n      <td>170.000000</td>\n      <td>Manchester United</td>\n      <td>Premier League</td>\n      <td>0.0</td>\n      <td>0.0</td>\n      <td>0.0</td>\n      <td>0.0</td>\n      <td>...</td>\n      <td>0.0</td>\n      <td>0.0</td>\n      <td>0.0</td>\n      <td>0.0</td>\n      <td>0.0</td>\n      <td>0.0</td>\n      <td>0.0</td>\n      <td>0.0</td>\n      <td>0.0</td>\n      <td>0.0</td>\n    </tr>\n    <tr>\n      <th>13</th>\n      <td>A. Garnacho</td>\n      <td>Argentina</td>\n      <td>80.000</td>\n      <td>180.000000</td>\n      <td>Manchester United</td>\n      <td>Premier League</td>\n      <td>19.0</td>\n      <td>5.0</td>\n      <td>562.0</td>\n      <td>3.0</td>\n      <td>...</td>\n      <td>5.0</td>\n      <td>38.0</td>\n      <td>11.0</td>\n      <td>8.0</td>\n      <td>8.0</td>\n      <td>95.0</td>\n      <td>27.0</td>\n      <td>0.0</td>\n      <td>0.0</td>\n      <td>0.0</td>\n    </tr>\n    <tr>\n      <th>14</th>\n      <td>A. Diallo</td>\n      <td>Côte d'Ivoire</td>\n      <td>72.000</td>\n      <td>173.000000</td>\n      <td>Manchester United</td>\n      <td>Premier League</td>\n      <td>0.0</td>\n      <td>0.0</td>\n      <td>0.0</td>\n      <td>0.0</td>\n      <td>...</td>\n      <td>0.0</td>\n      <td>0.0</td>\n      <td>0.0</td>\n      <td>0.0</td>\n      <td>0.0</td>\n      <td>0.0</td>\n      <td>0.0</td>\n      <td>0.0</td>\n      <td>0.0</td>\n      <td>0.0</td>\n    </tr>\n    <tr>\n      <th>15</th>\n      <td>M. Rashford</td>\n      <td>England</td>\n      <td>70.000</td>\n      <td>180.000000</td>\n      <td>Manchester United</td>\n      <td>Premier League</td>\n      <td>35.0</td>\n      <td>32.0</td>\n      <td>2889.0</td>\n      <td>17.0</td>\n      <td>...</td>\n      <td>7.0</td>\n      <td>127.0</td>\n      <td>54.0</td>\n      <td>23.0</td>\n      <td>15.0</td>\n      <td>302.0</td>\n      <td>117.0</td>\n      <td>0.0</td>\n      <td>0.0</td>\n      <td>0.0</td>\n    </tr>\n    <tr>\n      <th>16</th>\n      <td>A. Martial</td>\n      <td>France</td>\n      <td>76.000</td>\n      <td>181.000000</td>\n      <td>Manchester United</td>\n      <td>Premier League</td>\n      <td>21.0</td>\n      <td>11.0</td>\n      <td>979.0</td>\n      <td>6.0</td>\n      <td>...</td>\n      <td>1.0</td>\n      <td>23.0</td>\n      <td>14.0</td>\n      <td>14.0</td>\n      <td>8.0</td>\n      <td>99.0</td>\n      <td>43.0</td>\n      <td>1.0</td>\n      <td>0.0</td>\n      <td>0.0</td>\n    </tr>\n    <tr>\n      <th>17</th>\n      <td>F. Pellistri</td>\n      <td>Uruguay</td>\n      <td>69.000</td>\n      <td>175.000000</td>\n      <td>Manchester United</td>\n      <td>Premier League</td>\n      <td>4.0</td>\n      <td>0.0</td>\n      <td>60.0</td>\n      <td>0.0</td>\n      <td>...</td>\n      <td>0.0</td>\n      <td>3.0</td>\n      <td>2.0</td>\n      <td>2.0</td>\n      <td>1.0</td>\n      <td>8.0</td>\n      <td>5.0</td>\n      <td>0.0</td>\n      <td>0.0</td>\n      <td>0.0</td>\n    </tr>\n    <tr>\n      <th>18</th>\n      <td>Bruno Fernandes</td>\n      <td>Portugal</td>\n      <td>69.000</td>\n      <td>179.000000</td>\n      <td>Manchester United</td>\n      <td>Premier League</td>\n      <td>37.0</td>\n      <td>37.0</td>\n      <td>3320.0</td>\n      <td>8.0</td>\n      <td>...</td>\n      <td>25.0</td>\n      <td>59.0</td>\n      <td>31.0</td>\n      <td>39.0</td>\n      <td>42.0</td>\n      <td>349.0</td>\n      <td>156.0</td>\n      <td>2.0</td>\n      <td>0.0</td>\n      <td>0.0</td>\n    </tr>\n    <tr>\n      <th>19</th>\n      <td>R. Bennett</td>\n      <td>England</td>\n      <td>75.125</td>\n      <td>181.941176</td>\n      <td>Manchester United</td>\n      <td>Premier League</td>\n      <td>0.0</td>\n      <td>0.0</td>\n      <td>0.0</td>\n      <td>0.0</td>\n      <td>...</td>\n      <td>0.0</td>\n      <td>0.0</td>\n      <td>0.0</td>\n      <td>0.0</td>\n      <td>0.0</td>\n      <td>0.0</td>\n      <td>0.0</td>\n      <td>0.0</td>\n      <td>0.0</td>\n      <td>0.0</td>\n    </tr>\n  </tbody>\n</table>\n<p>20 rows × 30 columns</p>\n</div>"
     },
     "execution_count": 6,
     "metadata": {},
     "output_type": "execute_result"
    }
   ],
   "source": [
    "df_cleaned = clean_and_transform_data(df)\n",
    "df_cleaned"
   ],
   "metadata": {
    "collapsed": false,
    "ExecuteTime": {
     "end_time": "2024-01-20T21:27:46.263897Z",
     "start_time": "2024-01-20T21:27:46.206475Z"
    }
   },
   "id": "c90c8a2cfdccff28",
   "execution_count": 6
  },
  {
   "cell_type": "code",
   "outputs": [],
   "source": [],
   "metadata": {
    "collapsed": false
   },
   "id": "eefe2ede7e4aa4a5"
  }
 ],
 "metadata": {
  "kernelspec": {
   "display_name": "Python 3",
   "language": "python",
   "name": "python3"
  },
  "language_info": {
   "codemirror_mode": {
    "name": "ipython",
    "version": 2
   },
   "file_extension": ".py",
   "mimetype": "text/x-python",
   "name": "python",
   "nbconvert_exporter": "python",
   "pygments_lexer": "ipython2",
   "version": "2.7.6"
  }
 },
 "nbformat": 4,
 "nbformat_minor": 5
}
